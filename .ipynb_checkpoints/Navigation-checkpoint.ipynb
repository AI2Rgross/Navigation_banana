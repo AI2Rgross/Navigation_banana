{
 "cells": [
  {
   "cell_type": "markdown",
   "metadata": {},
   "source": [
    "# Navigation project using: DQN, DDQN, Dueling DQN & DDQN"
   ]
  },
  {
   "cell_type": "code",
   "execution_count": 1,
   "metadata": {},
   "outputs": [],
   "source": [
    "# import the libraries used                                                                                                                                                                                                                                                                                                                                                                                                                                                                                                                                                                                                                                             \n",
    "from unityagents import UnityEnvironment\n",
    "import random\n",
    "import torch\n",
    "import numpy as np\n",
    "from collections import deque\n",
    "import matplotlib.pyplot as plt\n",
    "import time\n",
    "%matplotlib inline\n",
    "from Agent import agent"
   ]
  },
  {
   "cell_type": "code",
   "execution_count": 3,
   "metadata": {},
   "outputs": [
    {
     "name": "stderr",
     "output_type": "stream",
     "text": [
      "INFO:unityagents:\n",
      "'Academy' started successfully!\n",
      "Unity Academy name: Academy\n",
      "        Number of Brains: 1\n",
      "        Number of External Brains : 1\n",
      "        Lesson number : 0\n",
      "        Reset Parameters :\n",
      "\t\t\n",
      "Unity brain name: BananaBrain\n",
      "        Number of Visual Observations (per agent): 0\n",
      "        Vector Observation space type: continuous\n",
      "        Vector Observation space size (per agent): 37\n",
      "        Number of stacked Vector Observation: 1\n",
      "        Vector Action space type: discrete\n",
      "        Vector Action space size (per agent): 4\n",
      "        Vector Action descriptions: , , , \n"
     ]
    }
   ],
   "source": [
    "# Load the environement. Here you need to adjust the filename.\n",
    "env = UnityEnvironment(file_name=\"../Banana_Linux/Banana.x86_64\")"
   ]
  },
  {
   "cell_type": "code",
   "execution_count": 4,
   "metadata": {},
   "outputs": [],
   "source": [
    "# We have, one agent that navigate in an environment composed of 37 states possible. \n",
    "# The state space has 37 dimensions that includes the agent's velocity and ray-based\n",
    "# perception of objects in front of the agent. \n",
    "# The agent has 4 actions possible in each state:\n",
    "#    0 - walk forward\n",
    "#    1 - walk backward\n",
    "#    2 - turn left\n",
    "#    3 - turn right "
   ]
  },
  {
   "cell_type": "code",
   "execution_count": 5,
   "metadata": {},
   "outputs": [],
   "source": [
    "def initialize_env(env,train_mode=True,brain_id=0):\n",
    "    # Here we take the brain number brain_id  and set it as the default brain.\n",
    "    # Environments contain brains which are responsible for deciding the actions of their associated agents.\n",
    "    # We use a single agent that move around in the environment\n",
    "    brain_name = env.brain_names[brain_id]\n",
    "    brain = env.brains[brain_name]\n",
    "    \n",
    "    # number of actions\n",
    "    action_size = brain.vector_action_space_size\n",
    "    \n",
    "    # reset the environment\n",
    "    env_info = env.reset(train_mode=True)[brain_name]\n",
    "\n",
    "    # examine the state space \n",
    "    state = env_info.vector_observations[0]\n",
    "    print('States look like:',state)\n",
    "\n",
    "    state_size = len(state)\n",
    "    print('States have length:', state_size)\n",
    "    \n",
    "    return brain_name, brain, env_info, action_size, state_size"
   ]
  },
  {
   "cell_type": "code",
   "execution_count": 6,
   "metadata": {},
   "outputs": [],
   "source": [
    "def train(env,brain_name,agent,dqn,file_save='checkpoint.pth',n_episodes=700, max_t=1000, eps_start=1.0, eps_end=0.01, eps_decay=0.995):\n",
    "  \n",
    "    \"\"\"Deep Q-Learning.\n",
    "    \n",
    "    Params\n",
    "    ======\n",
    "        n_episodes (int): maximum number of training episodes\n",
    "        max_t (int): maximum number of timesteps per episode\n",
    "        eps_start (float): starting value of epsilon, for epsilon-greedy action selection\n",
    "        eps_end (float): minimum value of epsilon\n",
    "        eps_decay (float): multiplicative factor (per episode) for decreasing epsilon\n",
    "    \"\"\"\n",
    " \n",
    "    scores = []                        # list containing scores from each episode\n",
    "    scores_mean_w=[]                   # list containing the mean score evaluates every 10 episodes\n",
    "    scores_window = deque(maxlen=100)  # last 100 scores\n",
    "\n",
    "    eps = eps_start                    # initialize epsilon\n",
    "    for i_episode in range(1, n_episodes+1):\n",
    "        env_info = env.reset(train_mode=True)[brain_name] \n",
    "        state = env_info.vector_observations[0]\n",
    "        score = 0\n",
    "        for t in range(max_t):\n",
    "            action = agent.act(state, eps)\n",
    "            env_info = env.step(action)[brain_name]        # information about the environment\n",
    "            next_state = env_info.vector_observations[0]   # get the next state\n",
    "            reward = env_info.rewards[0]                   # get the reward\n",
    "            done = env_info.local_done[0]                  # see if episode has finished\n",
    "            agent.step(state, action, reward, next_state, done,dqn)\n",
    " \n",
    "            score += reward      # update the score\n",
    "            state = next_state   # roll over the state to next time step\n",
    "            time = t\n",
    "            if done:             # exit loop if episode finished\n",
    "                break\n",
    " \n",
    "        scores_window.append(score)       # save most recent score\n",
    "        scores.append(score)              # save most recent score\n",
    "        eps = max(eps_end, eps_decay*eps) # decrease epsilon\n",
    "        \n",
    "        if i_episode % 100 == 0:\n",
    "            print('\\rEpisode {}\\tAverage Score: {:.2f}'.format(i_episode, np.mean(scores_window)))\n",
    "        if i_episode % 10 == 0:            \n",
    "            scores_mean_w.append(np.mean(scores_window))\n",
    "            print('\\rEpisode {}\\tAverage Score: {:.2f}'.format(i_episode, np.mean(scores_window)))\n",
    "\n",
    "        if np.mean(scores_window)>=13.0:\n",
    "            print('\\nEnvironment solved in {:d} episodes!\\tAverage Score: {:.2f}'.format(i_episode-100, np.mean(scores_window)))\n",
    "            torch.save(agent.qnetwork_local.state_dict(), file_save)\n",
    "            break\n",
    "\n",
    "    return scores,scores_mean_w\n"
   ]
  },
  {
   "cell_type": "code",
   "execution_count": 7,
   "metadata": {},
   "outputs": [],
   "source": [
    "def Test(env,brain_name,agent,file_name,max_t=1000):\n",
    "    \"\"\" Visualize agent using saved checkpoint. \"\"\"\n",
    "    # load saved weights\n",
    "    agent.qnetwork_local.load_state_dict(torch.load(file_name))\n",
    " \n",
    "    scores = []                        # list containing scores from each episode\n",
    "    score = 0\n",
    "\n",
    "    env_info = env.reset(train_mode=False)[brain_name] \n",
    "    state = env_info.vector_observations[0]\n",
    "    score = 0\n",
    "    t=0\n",
    "    for t in range(max_t):\n",
    "        # select an action using a greedy policy\n",
    "        action = agent.act(state)\n",
    "        # take action in environment\n",
    "        env_info = env.step(action)[brain_name]        # information about the environment\n",
    "        next_state = env_info.vector_observations[0]   # get the next state\n",
    "        reward = env_info.rewards[0]                   # get the reward\n",
    "        done = env_info.local_done[0]  \n",
    "        state = next_state   # roll over the state to next time step\n",
    "        score += reward      # update the score\n",
    "        scores.append(score)              # save most recent score\n",
    "        if done or t>= max_t:\n",
    "           break\n",
    "    print(\"Average reward par step:\",score/t)\n",
    "    return scores"
   ]
  },
  {
   "cell_type": "code",
   "execution_count": 8,
   "metadata": {},
   "outputs": [],
   "source": [
    "def plot_data(x,y,xlabel='Episode #',ylabel='Score'):\n",
    "  # plot the scores\n",
    "  fig = plt.figure()\n",
    "  ax = fig.add_subplot(111)\n",
    "  plt.plot(x, y)\n",
    "  plt.ylabel(ylabel)\n",
    "  plt.xlabel(xlabel)\n",
    "  plt.show()"
   ]
  },
  {
   "cell_type": "markdown",
   "metadata": {},
   "source": [
    "## Training"
   ]
  },
  {
   "cell_type": "code",
   "execution_count": 9,
   "metadata": {},
   "outputs": [
    {
     "name": "stdout",
     "output_type": "stream",
     "text": [
      "States look like: [1.         0.         0.         0.         0.84408134 0.\n",
      " 0.         1.         0.         0.0748472  0.         1.\n",
      " 0.         0.         0.25755    1.         0.         0.\n",
      " 0.         0.74177343 0.         1.         0.         0.\n",
      " 0.25854847 0.         0.         1.         0.         0.09355672\n",
      " 0.         1.         0.         0.         0.31969345 0.\n",
      " 0.        ]\n",
      "States have length: 37\n"
     ]
    }
   ],
   "source": [
    "brain_name, brain, env_info, action_size, state_size = initialize_env(env,train_mode=True,brain_id=0)"
   ]
  },
  {
   "cell_type": "code",
   "execution_count": null,
   "metadata": {},
   "outputs": [
    {
     "name": "stdout",
     "output_type": "stream",
     "text": [
      "QNetwork(\n",
      "  (fc1): Linear(in_features=37, out_features=64, bias=True)\n",
      "  (fc2): Linear(in_features=64, out_features=64, bias=True)\n",
      "  (fc3): Linear(in_features=64, out_features=4, bias=True)\n",
      ")\n",
      "Episode 10\tAverage Score: -0.20\n",
      "Episode 20\tAverage Score: 0.20\n",
      "Episode 30\tAverage Score: 0.27\n",
      "Episode 40\tAverage Score: 0.42\n",
      "Episode 50\tAverage Score: 0.62\n",
      "Episode 60\tAverage Score: 0.67\n",
      "Episode 70\tAverage Score: 0.67\n",
      "Episode 80\tAverage Score: 0.72\n",
      "Episode 90\tAverage Score: 0.98\n",
      "Episode 100\tAverage Score: 1.17\n",
      "Episode 100\tAverage Score: 1.17\n",
      "Episode 110\tAverage Score: 1.50\n",
      "Episode 120\tAverage Score: 1.79\n",
      "Episode 130\tAverage Score: 2.16\n",
      "Episode 140\tAverage Score: 2.47\n",
      "Episode 150\tAverage Score: 2.80\n",
      "Episode 160\tAverage Score: 3.08\n",
      "Episode 170\tAverage Score: 3.43\n",
      "Episode 180\tAverage Score: 3.81\n",
      "Episode 190\tAverage Score: 4.02\n",
      "Episode 200\tAverage Score: 4.27\n",
      "Episode 200\tAverage Score: 4.27\n",
      "Episode 210\tAverage Score: 4.55\n",
      "Episode 220\tAverage Score: 4.86\n",
      "Episode 230\tAverage Score: 5.15\n",
      "Episode 240\tAverage Score: 5.39\n",
      "Episode 250\tAverage Score: 5.57\n",
      "Episode 260\tAverage Score: 5.79\n",
      "Episode 270\tAverage Score: 5.91\n",
      "Episode 280\tAverage Score: 6.28\n",
      "Episode 290\tAverage Score: 6.45\n",
      "Episode 300\tAverage Score: 6.85\n",
      "Episode 300\tAverage Score: 6.85\n",
      "Episode 310\tAverage Score: 6.95\n",
      "Episode 320\tAverage Score: 7.03\n",
      "Episode 330\tAverage Score: 7.18\n",
      "Episode 340\tAverage Score: 7.40\n",
      "Episode 350\tAverage Score: 7.62\n",
      "Episode 360\tAverage Score: 7.97\n",
      "Episode 370\tAverage Score: 8.26\n",
      "Episode 380\tAverage Score: 8.28\n",
      "Episode 390\tAverage Score: 8.52\n",
      "Episode 400\tAverage Score: 8.64\n",
      "Episode 400\tAverage Score: 8.64\n",
      "Episode 410\tAverage Score: 8.95\n",
      "Episode 420\tAverage Score: 9.24\n",
      "Episode 430\tAverage Score: 9.36\n",
      "Episode 440\tAverage Score: 9.54\n",
      "Episode 450\tAverage Score: 9.62\n",
      "Episode 460\tAverage Score: 9.71\n",
      "Episode 470\tAverage Score: 9.93\n",
      "Episode 480\tAverage Score: 10.17\n",
      "Episode 490\tAverage Score: 10.50\n",
      "Episode 500\tAverage Score: 10.60\n",
      "Episode 500\tAverage Score: 10.60\n"
     ]
    }
   ],
   "source": [
    "dqn_agent = agent(state_size, action_size,duel=False, fc1_units=64,fc2_units=64,seed=0)\n",
    "dqn_scores,dqn_scores_mean_w = train(env,brain_name,dqn_agent,dqn=True,file_save='dqn_checkpoint.pth')"
   ]
  },
  {
   "cell_type": "code",
   "execution_count": null,
   "metadata": {},
   "outputs": [],
   "source": [
    "plot_data(np.arange(len(dqn_scores)),dqn_scores,xlabel='Episode #',ylabel='DQN Score')\n",
    "plot_data(np.arange(len(dqn_scores_mean_w))*10,dqn_scores_mean_w,xlabel='Episode #',ylabel='DQN Score average (10Ep)')"
   ]
  },
  {
   "cell_type": "code",
   "execution_count": null,
   "metadata": {},
   "outputs": [],
   "source": [
    "ddqn_agent = agent(state_size, action_size, duel=False, fc1_units=64,fc2_units=64,seed=0)\n",
    "ddqn_scores,ddqn_scores_mean_w = train(env,brain_name,ddqn_agent,dqn=False,file_save='ddqn_checkpoint.pth')"
   ]
  },
  {
   "cell_type": "code",
   "execution_count": null,
   "metadata": {},
   "outputs": [],
   "source": [
    "plot_data(np.arange(len(ddqn_scores)),ddqn_scores,xlabel='Episode #',ylabel='DDQN Score')\n",
    "plot_data(np.arange(len(ddqn_scores_mean_w))*10,ddqn_scores_mean_w,xlabel='Episode #',ylabel='DDQN Score average (10Ep)')"
   ]
  },
  {
   "cell_type": "markdown",
   "metadata": {},
   "source": [
    "## Testing"
   ]
  },
  {
   "cell_type": "code",
   "execution_count": null,
   "metadata": {},
   "outputs": [],
   "source": [
    "brain_name, brain, env_info, action_size, state_size = initialize_env(env,train_mode=True,brain_id=0)"
   ]
  },
  {
   "cell_type": "code",
   "execution_count": null,
   "metadata": {},
   "outputs": [],
   "source": [
    "print(env_info.state)"
   ]
  },
  {
   "cell_type": "code",
   "execution_count": null,
   "metadata": {},
   "outputs": [],
   "source": [
    "agent = dqn_Agent(state_size, action_size,duel=False, fc1_units=64,fc2_units=64,seed=0)\n",
    "file_name ='dqn_checkpoint.pth'"
   ]
  },
  {
   "cell_type": "code",
   "execution_count": null,
   "metadata": {},
   "outputs": [],
   "source": [
    "scores=Test(env,brain_name,agent,file_name ,max_t=1000)"
   ]
  },
  {
   "cell_type": "code",
   "execution_count": null,
   "metadata": {},
   "outputs": [],
   "source": [
    "plot_data(np.arange(len(scores)),scores,xlabel='Step #',ylabel='DQN Score')\n"
   ]
  },
  {
   "cell_type": "markdown",
   "metadata": {},
   "source": [
    "# Fin"
   ]
  },
  {
   "cell_type": "code",
   "execution_count": null,
   "metadata": {},
   "outputs": [],
   "source": [
    "env.close()"
   ]
  },
  {
   "cell_type": "code",
   "execution_count": null,
   "metadata": {},
   "outputs": [],
   "source": []
  }
 ],
 "metadata": {
  "kernelspec": {
   "display_name": "Python 3",
   "language": "python",
   "name": "python3"
  },
  "language_info": {
   "codemirror_mode": {
    "name": "ipython",
    "version": 3
   },
   "file_extension": ".py",
   "mimetype": "text/x-python",
   "name": "python",
   "nbconvert_exporter": "python",
   "pygments_lexer": "ipython3",
   "version": "3.5.2"
  }
 },
 "nbformat": 4,
 "nbformat_minor": 2
}
